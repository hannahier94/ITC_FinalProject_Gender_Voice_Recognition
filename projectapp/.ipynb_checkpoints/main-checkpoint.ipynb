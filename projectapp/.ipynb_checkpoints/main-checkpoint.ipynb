{
 "cells": [
  {
   "cell_type": "code",
   "execution_count": 7,
   "metadata": {},
   "outputs": [],
   "source": [
    "import numpy as np\n",
    "from flask import Flask, request\n",
    "from utils.prepdata import extract_spectrum\n",
    "from utils.prepaudio import get_large_audio_transcription\n",
    "from utils.analyzetext import determine_tense_input\n",
    "from utils.TranslateOutput import get_translation\n",
    "from utils.misc import check_file, predict, open_model\n",
    "from flask import Flask, request, jsonify, render_template, flash, redirect, url_for, send_from_directory\n",
    "import numpy as np\n",
    "import json\n",
    "from tensorflow.keras.models import load_model\n",
    "import tensorflow as tf\n",
    "import os\n",
    "\n",
    "EXTS = ['wav', 'mp3']\n",
    "UPLOAD_FOLDER = './uploads'\n",
    "\n",
    "if not os.path.exists('uploads'):\n",
    "    os.makedirs('uploads')\n",
    "\n",
    "app = Flask(__name__, template_folder='templates/public/') \n",
    "    \n",
    "app.config['UPLOAD_FOLDER'] = UPLOAD_FOLDER\n",
    "app.config['ALLOWED_EXTENSIONS'] = EXTS\n",
    "\n",
    "\n",
    "model = open_model()\n",
    "\n",
    "def invoke_pipeline(audiofile):\n",
    "    loc = './uploads/' + audiofile.filename\n",
    "    pred = predict(loc, model=open_model())\n",
    "    text = get_large_audio_transcription(audiofile)\n",
    "    split_sentence = determine_tense_input(text)\n",
    "    res = get_translation(split_sentence, pred)\n",
    "    return res\n",
    "\n",
    "\n",
    "@app.route('/')\n",
    "def enter():\n",
    "    return 'Welcome!'\n",
    "\n",
    "@app.route('/results')\n",
    "def display_res(text):\n",
    "    return text\n",
    "\n",
    "@app.route('/upload', methods=['GET', 'POST'])\n",
    "def upload():\n",
    "    if request.method == \"POST\":\n",
    "\n",
    "        if request.files:\n",
    "            \n",
    "            newfile = request.files[\"audio\"]\n",
    "            \n",
    "            if not check_file(newfile.filename, \\\n",
    "                              allowed = app.config['ALLOWED_EXTENSIONS']):\n",
    "                return redirect(request.url)\n",
    "            \n",
    "            newfile.save(os.path.join(app.config['UPLOAD_FOLDER'], \n",
    "                                      newfile.filename))\n",
    "            return invoke_pipeline(newfile)\n",
    "    return render_template('upload.html')\n"
   ]
  },
  {
   "cell_type": "code",
   "execution_count": 8,
   "metadata": {
    "scrolled": true
   },
   "outputs": [
    {
     "name": "stdout",
     "output_type": "stream",
     "text": [
      " * Serving Flask app \"__main__\" (lazy loading)\n",
      " * Environment: production\n",
      "   WARNING: This is a development server. Do not use it in a production deployment.\n",
      "   Use a production WSGI server instead.\n",
      " * Debug mode: off\n"
     ]
    },
    {
     "name": "stderr",
     "output_type": "stream",
     "text": [
      " * Running on http://127.0.0.1:5000/ (Press CTRL+C to quit)\n",
      "127.0.0.1 - - [28/Sep/2020 15:48:30] \"\u001b[37mPOST /upload HTTP/1.1\u001b[0m\" 200 -\n",
      "127.0.0.1 - - [28/Sep/2020 15:48:59] \"\u001b[37mPOST /upload HTTP/1.1\u001b[0m\" 200 -\n",
      "127.0.0.1 - - [28/Sep/2020 15:56:47] \"\u001b[37mPOST /upload HTTP/1.1\u001b[0m\" 200 -\n"
     ]
    }
   ],
   "source": [
    "\n",
    "if __name__ == \"__main__\":\n",
    "     # Heroku provides environment variable 'PORT' that should be listened on by Flask\n",
    "    port = os.environ.get('PORT')\n",
    "\n",
    "    if port:\n",
    "        # 'PORT' variable exists - running on Heroku, listen on external IP and on given by Heroku port\n",
    "        app.run(host='0.0.0.0', port=int(port))\n",
    "    else:\n",
    "        # 'PORT' variable doesn't exist, running not on Heroku, presumabely running locally, run with default\n",
    "        #   values for Flask (listening only on localhost on default Flask port)\n",
    "        app.run(port=5000)"
   ]
  },
  {
   "cell_type": "code",
   "execution_count": null,
   "metadata": {},
   "outputs": [],
   "source": []
  }
 ],
 "metadata": {
  "kernelspec": {
   "display_name": "Python [conda env:root] *",
   "language": "python",
   "name": "conda-root-py"
  },
  "language_info": {
   "codemirror_mode": {
    "name": "ipython",
    "version": 3
   },
   "file_extension": ".py",
   "mimetype": "text/x-python",
   "name": "python",
   "nbconvert_exporter": "python",
   "pygments_lexer": "ipython3",
   "version": "3.7.6"
  },
  "latex_envs": {
   "LaTeX_envs_menu_present": true,
   "autoclose": false,
   "autocomplete": true,
   "bibliofile": "biblio.bib",
   "cite_by": "apalike",
   "current_citInitial": 1,
   "eqLabelWithNumbers": true,
   "eqNumInitial": 1,
   "hotkeys": {
    "equation": "Ctrl-E",
    "itemize": "Ctrl-I"
   },
   "labels_anchors": false,
   "latex_user_defs": false,
   "report_style_numbering": false,
   "user_envs_cfg": false
  }
 },
 "nbformat": 4,
 "nbformat_minor": 4
}
