{
 "cells": [
  {
   "cell_type": "code",
   "execution_count": 1,
   "metadata": {
    "colab": {},
    "colab_type": "code",
    "id": "NBdFhPZ-sN-s"
   },
   "outputs": [],
   "source": [
    "import glob\n",
    "import os\n",
    "import pandas as pd\n",
    "import numpy as np\n",
    "import shutil\n",
    "import librosa\n",
    "from tqdm import tqdm\n",
    "from os import listdir\n",
    "\n",
    "def extract_spectrum(file_name, file_length=5, bin_factor=4, **kwargs):\n",
    "    \"\"\"\n",
    "    file_length is the target time length of the file in seconds\n",
    "    bin_factor is the amount by which we enlarge the time bins from 512 samples:\n",
    "    Extract mel spectrogram from audio file `file_name`\n",
    "    \"\"\"\n",
    "\n",
    "    X, sample_rate = librosa.core.load(file_name)\n",
    "    target_name = file_name[:-4]\n",
    "    target_length = int(file_length * sample_rate)\n",
    "    target = np.zeros(target_length)\n",
    "    if X.shape[0] >= target_length:\n",
    "        target = X[:target_length]\n",
    "    else:\n",
    "        target[:X.shape[0]] = X\n",
    "    X = target\n",
    "    mel = librosa.feature.melspectrogram(X, sr=sample_rate, hop_length=512 * bin_factor).T\n",
    "    return mel\n",
    "\n",
    "\n",
    "def wav_reprocess(filename):\n",
    "    \"\"\"params:\n",
    "    1. a path of a wav file (full or relative path)\n",
    "    returns:\n",
    "    2. a shape (54,128,1) matrix - mel frequency only\"\"\"\n",
    "    \n",
    "    file_pro = extract_spectrum(filename, mel=True)\n",
    "    file_pro = file_pro[:,:,np.newaxis]\n",
    "    return file_pro\n",
    "\n",
    "def process_wav_folder_with_labels(wav_folder_path, labels_file_path):\n",
    "    \"\"\"params:\n",
    "    1. a folder path of wav files\n",
    "    2. csv file with ['gender','filename'] columns\n",
    "    returns:\n",
    "    X - matrix of mel frequency for all the files in the directory\n",
    "    y - vector representing labels to X (0:female,1:male)\"\"\"\n",
    "    \n",
    "    y = pd.read_csv(labels_file_path)\n",
    "    os.chdir(wav_folder_path)\n",
    "    X = []\n",
    "    files = y['filename'].tolist() \n",
    "    for filename in files:\n",
    "          X.append(wav_reprocess(file_path)) \n",
    "    X = np.asarray(X)\n",
    "\n",
    "    gender_dict = {'female':0, 'male':1}\n",
    "    y['gender'] = y['gender'].map(gender_dict)\n",
    "    y = np.asarray(y['gender'], dtype = 'int32')\n",
    "\n",
    "    return X, y"
   ]
  },
  {
   "cell_type": "code",
   "execution_count": 34,
   "metadata": {
    "colab": {},
    "colab_type": "code",
    "id": "4LLnZqTk8iiW"
   },
   "outputs": [],
   "source": [
    "main_folder = '/content/drive/My Drive/ITC'\n",
    "wav_folder_path = '/content/drive/My Drive/ITC/waves'\n",
    "labels_file_path = '/content/drive/My Drive/ITC/label.csv'\n",
    "X, y = process_wav_folder_with_labels(wav_folder_path, labels_file_path)"
   ]
  },
  {
   "cell_type": "code",
   "execution_count": 35,
   "metadata": {
    "colab": {
     "base_uri": "https://localhost:8080/",
     "height": 34
    },
    "colab_type": "code",
    "id": "TtajEi2UtvRN",
    "outputId": "de217c75-fda4-4a03-b641-ef4dee1cebc2"
   },
   "outputs": [
    {
     "data": {
      "text/plain": [
       "((21, 54, 128, 1), (21,))"
      ]
     },
     "execution_count": 35,
     "metadata": {
      "tags": []
     },
     "output_type": "execute_result"
    }
   ],
   "source": [
    "X.shape, y.shape"
   ]
  },
  {
   "cell_type": "code",
   "execution_count": 36,
   "metadata": {
    "colab": {},
    "colab_type": "code",
    "id": "5qxU1DAC7kji"
   },
   "outputs": [],
   "source": [
    "os.chdir(main_folder)\n",
    "np.save('X', X)\n",
    "np.save('y', y)"
   ]
  },
  {
   "cell_type": "code",
   "execution_count": 12,
   "metadata": {
    "colab": {
     "base_uri": "https://localhost:8080/",
     "height": 34
    },
    "colab_type": "code",
    "id": "bcHRD1GJ8x-N",
    "outputId": "1d4b253d-8710-412a-85c8-2aded72a872b"
   },
   "outputs": [
    {
     "data": {
      "text/plain": [
       "((21, 54, 128, 1), (21,))"
      ]
     },
     "execution_count": 12,
     "metadata": {},
     "output_type": "execute_result"
    }
   ],
   "source": [
    "xx = np.load('X.npy')\n",
    "yy = np.load('y.npy')\n",
    "xx.shape, yy.shape"
   ]
  }
 ],
 "metadata": {
  "colab": {
   "collapsed_sections": [],
   "name": "wav_reprocess.ipynb",
   "provenance": []
  },
  "kernelspec": {
   "display_name": "Python 3",
   "language": "python",
   "name": "python3"
  },
  "language_info": {
   "codemirror_mode": {
    "name": "ipython",
    "version": 3
   },
   "file_extension": ".py",
   "mimetype": "text/x-python",
   "name": "python",
   "nbconvert_exporter": "python",
   "pygments_lexer": "ipython3",
   "version": "3.7.6"
  },
  "latex_envs": {
   "LaTeX_envs_menu_present": true,
   "autoclose": false,
   "autocomplete": true,
   "bibliofile": "biblio.bib",
   "cite_by": "apalike",
   "current_citInitial": 1,
   "eqLabelWithNumbers": true,
   "eqNumInitial": 1,
   "hotkeys": {
    "equation": "Ctrl-E",
    "itemize": "Ctrl-I"
   },
   "labels_anchors": false,
   "latex_user_defs": false,
   "report_style_numbering": false,
   "user_envs_cfg": false
  }
 },
 "nbformat": 4,
 "nbformat_minor": 1
}
