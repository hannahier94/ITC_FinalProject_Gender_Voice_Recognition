{
  "nbformat": 4,
  "nbformat_minor": 0,
  "metadata": {
    "colab": {
      "name": "wav_reprocess.ipynb",
      "provenance": [],
      "collapsed_sections": []
    },
    "kernelspec": {
      "name": "python3",
      "display_name": "Python 3"
    }
  },
  "cells": [
    {
      "cell_type": "code",
      "metadata": {
        "id": "NBdFhPZ-sN-s",
        "colab_type": "code",
        "colab": {}
      },
      "source": [
        "import glob\n",
        "import os\n",
        "import pandas as pd\n",
        "import numpy as np\n",
        "import shutil\n",
        "import librosa\n",
        "from tqdm import tqdm\n",
        "from os import listdir\n",
        "\n",
        "def extract_spectrum(file_name, file_length=5, bin_factor=4, **kwargs):\n",
        "    \"\"\"\n",
        "    file_length is the target time length of the file in seconds\n",
        "    bin_factor is the amount by which we enlarge the time bins from 512 samples:\n",
        "    Extract mel spectrogram from audio file `file_name`\n",
        "    \"\"\"\n",
        "\n",
        "    X, sample_rate = librosa.core.load(file_name)\n",
        "    target_name = file_name[:-4]\n",
        "    target_length = int(file_length * sample_rate)\n",
        "    target = np.zeros(target_length)\n",
        "    if X.shape[0] >= target_length:\n",
        "        target = X[:target_length]\n",
        "    else:\n",
        "        target[:X.shape[0]] = X\n",
        "    X = target\n",
        "    mel = librosa.feature.melspectrogram(X, sr=sample_rate, hop_length=512 * bin_factor).T\n",
        "    return mel\n",
        "\n",
        "\n",
        "def wav_reprocess(filename):\n",
        "    file_pro = extract_spectrum(filename, mel=True)\n",
        "    file_pro = file_pro[:,:,np.newaxis]\n",
        "    return file_pro\n",
        "\n",
        "def process_wav_folder_with_labels(wav_folder_path, labels_file_path):\n",
        "    y = pd.read_csv(labels_file_path)\n",
        "    os.chdir(wav_folder_path)\n",
        "    X = []\n",
        "    files = y['filename'].tolist() \n",
        "    for filename in files:\n",
        "          X.append(wav_reprocess(file_path)) \n",
        "    X = np.asarray(X)\n",
        "\n",
        "    gender_dict = {'female':0, 'male':1}\n",
        "    y['gender'] = y['gender'].map(gender_dict)\n",
        "    y = np.asarray(y['gender'], dtype = 'int32')\n",
        "\n",
        "    return X, y"
      ],
      "execution_count": 33,
      "outputs": []
    },
    {
      "cell_type": "code",
      "metadata": {
        "id": "4LLnZqTk8iiW",
        "colab_type": "code",
        "colab": {}
      },
      "source": [
        "main_folder = '/content/drive/My Drive/ITC'\n",
        "wav_folder_path = '/content/drive/My Drive/ITC/waves'\n",
        "labels_file_path = '/content/drive/My Drive/ITC/label.csv'\n",
        "X, y = process_wav_folder_with_labels(wav_folder_path, labels_file_path)"
      ],
      "execution_count": 34,
      "outputs": []
    },
    {
      "cell_type": "code",
      "metadata": {
        "id": "TtajEi2UtvRN",
        "colab_type": "code",
        "colab": {
          "base_uri": "https://localhost:8080/",
          "height": 34
        },
        "outputId": "de217c75-fda4-4a03-b641-ef4dee1cebc2"
      },
      "source": [
        "X.shape, y.shape"
      ],
      "execution_count": 35,
      "outputs": [
        {
          "output_type": "execute_result",
          "data": {
            "text/plain": [
              "((21, 54, 128, 1), (21,))"
            ]
          },
          "metadata": {
            "tags": []
          },
          "execution_count": 35
        }
      ]
    },
    {
      "cell_type": "code",
      "metadata": {
        "id": "5qxU1DAC7kji",
        "colab_type": "code",
        "colab": {}
      },
      "source": [
        "os.chdir(main_folder)\n",
        "np.save('X', X)\n",
        "np.save('y', y)"
      ],
      "execution_count": 36,
      "outputs": []
    },
    {
      "cell_type": "code",
      "metadata": {
        "id": "bcHRD1GJ8x-N",
        "colab_type": "code",
        "colab": {
          "base_uri": "https://localhost:8080/",
          "height": 34
        },
        "outputId": "1d4b253d-8710-412a-85c8-2aded72a872b"
      },
      "source": [
        "xx = np.load('X.npy')\n",
        "yy = np.load('y.npy')\n",
        "xx.shape, yy.shape"
      ],
      "execution_count": 37,
      "outputs": [
        {
          "output_type": "execute_result",
          "data": {
            "text/plain": [
              "((21, 54, 128, 1), (21,))"
            ]
          },
          "metadata": {
            "tags": []
          },
          "execution_count": 37
        }
      ]
    },
    {
      "cell_type": "code",
      "metadata": {
        "id": "_gDelvRq88_s",
        "colab_type": "code",
        "colab": {}
      },
      "source": [
        ""
      ],
      "execution_count": null,
      "outputs": []
    }
  ]
}